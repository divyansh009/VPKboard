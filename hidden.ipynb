{
 "cells": [
  {
   "cell_type": "code",
   "execution_count": 6,
   "id": "507f76c1",
   "metadata": {},
   "outputs": [],
   "source": [
    "para=\"On a hot summer day, a hungry lazy lion roamed the forest. He spotted a rabbit but let it go, thinking it would not satisfy his hunger. He then joyfully chased a quick deer but could not keep up. Exhausted and defeated, he returned to find the rabbit, but it was gone. The lion remained hungry and learned that greed is never good.\""
   ]
  },
  {
   "cell_type": "code",
   "execution_count": 7,
   "id": "a3edda69",
   "metadata": {},
   "outputs": [
    {
     "name": "stdout",
     "output_type": "stream",
     "text": [
      "on a hot summer day, a hungry lazy lion roamed the forest. he spotted a rabbit but let it go, thinking it would not satisfy his hunger. he then joyfully chased a quick deer but could not keep up. exhausted and defeated, he returned to find the rabbit, but it was gone. the lion remained hungry and learned that greed is never good.\n"
     ]
    }
   ],
   "source": [
    "def convert_to_lowercase(string):\n",
    "    return string.lower()\n",
    "para = convert_to_lowercase(para)\n",
    "print(para)"
   ]
  },
  {
   "cell_type": "code",
   "execution_count": 8,
   "id": "f6de3d0e",
   "metadata": {},
   "outputs": [
    {
     "data": {
      "text/plain": [
       "331"
      ]
     },
     "execution_count": 8,
     "metadata": {},
     "output_type": "execute_result"
    }
   ],
   "source": [
    "len(para)"
   ]
  },
  {
   "cell_type": "code",
   "execution_count": 9,
   "id": "51a4dfe1",
   "metadata": {},
   "outputs": [],
   "source": [
    "para = convert_to_lowercase(para)"
   ]
  },
  {
   "cell_type": "code",
   "execution_count": 10,
   "id": "fe79503c",
   "metadata": {},
   "outputs": [],
   "source": [
    "def count_similar_characters(root, strings):\n",
    "    counts = []\n",
    "    for string in strings:\n",
    "        count = 0\n",
    "        for i in range(len(root)):\n",
    "            if root[i] == string[i]:\n",
    "                count += 1\n",
    "        counts.append(count)\n",
    "    return counts"
   ]
  },
  {
   "cell_type": "code",
   "execution_count": 11,
   "id": "346864e5",
   "metadata": {},
   "outputs": [],
   "source": [
    "a0=\"on a hot summer day, a hungry lazy lion roamed the forest. heespotted a rabbit but let it go, thinking it would not satisfy his hunger. he then joyfully chased a auick deer but could not keep up. exhausted and defeated, he returned to find the rabbit,bbut it was gone. the lion remained hungry and learned that greed is never good.\"\n",
    "a1=\"on a hot summer day, a hungry lazy lionnroamed the forest. he spotted a rabbit but let it go, thinking it would npt satisfy his hunger. he then joyfully chased a quick deer but could nit keep up. exhqusted and defeated, he returned to findtthe rabbit, but it was gone..the lion remained hungry and learned that greed is never good.\"\n",
    "a2=\"on a hot summer day, q hungry lazy lion roamed the forest. he spotted a rabbit but lrt it go, thonking it would not satisfy his hunger. he then joyfully chased a quick dwer but could not keepuup.eexhausted anf defeated, he returned to fimd the rabbit, but ut was gone. the lion remained hyngry and learned that greed is never good.\"\n",
    "a3=\"on a hot summer day, a hungry laay lion roamed the forest. he spotted a ravbit but let it go, thinking it would not satisfy his hunger. he then joyfully chasrd a quickddeer but could not keep up. exhausted andddefeated,  e returned to find the rabbit, but it was gone. the lion remained hyngry and learned that greed is never good.\"\n",
    "a4=\"on a hot sumner day, a hungry lazy lion roamed the forest. he spotted a rabnit but let it go, thinjing it would not satisfy his hunger. he then jiyfukly chasedaa quick deer but could not keep up. exhausted and defested, he returned to find the rabbit, but it was tone..the lion remained hungry and learned that greed is never good.\"\n",
    "a5=\"on a hot summer day, a hungry lazy lion roamed the foredt. he spotted a rabbittbut let it go, thinking it would not satisfy his hunger. he then hoyfully chased a quick deer but could not keep up. exhausted and defeated, he returned to find the rabbit, but it was gone. the lion remained hungry and learned that grrrd is never good.\"\n",
    "a6=\"pn a hot summer day, a hungry lazy lion roamed the forest. he spotted a rabbit butllet it go, thinking it would not satisfy his hunger..he then joyfully chased a quick deer bit could not keep up. exhaudted and defeated, he teturned to find thr rabbit, but it was gone. the lion remaineddhungry and learned that greed is never good.\"\n",
    "a7=\"on a hot sunmer day, aahungry lazy lipn roamed the foeest. he spotted aarabbit but let iy go, thinkingiit would not satisfyyhis hunger. he then joyfully xhased a quicl deer but could not keep up. exhausred and defeated,,he returned to find the rabbit, but it was gone..the lion remained hungry andllearned that greed is never good.\"\n",
    "a8=\"on a hot summer day, a hungry lazy lion roamed the forest. he spotted a rabbit but let it go, thinking it would not satiafy gis hunger. he then joyfully chased a quick deer buttcould not keep up. exhaystef and defeated, he returned to find the rabvit,bbut it wassgone. the lion remained hungrt and learned that greed is neber goid.\"\n",
    "a9=\"on a hot summer day, a hungry lazh lion roamed the foeest. he spotred a rabbit but let it go, thinking it would not satisfy his hungef. he then joyfully chasdd a quick deer but could not keep up..exhausted and degeated, he retuened to fimd the rabbit, but ot was gone. the lkon remained hungry andllearned that greed is never good.\"\n",
    "a10=\"on a hit summer day,,a hungry lazy lion roamed theeforest. h  spotted a rabbit but lettit go, thinkinf it would not satosfy his hunger. he then joyfukly chaded a quickkdeer but coulc not krep up..exhausted and defeated, he returned to find the rabbit, but it was gone. the lion remained hungry and learned that greed is never good.\""
   ]
  },
  {
   "cell_type": "code",
   "execution_count": 12,
   "id": "922b10fb",
   "metadata": {},
   "outputs": [
    {
     "name": "stdout",
     "output_type": "stream",
     "text": [
      "Number of similar characters at respective indices:\n",
      "3\n",
      "6\n",
      "10\n",
      "7\n",
      "9\n",
      "5\n",
      "8\n",
      "14\n",
      "11\n",
      "12\n",
      "13\n"
     ]
    }
   ],
   "source": [
    "# Example usage\n",
    "root_string = para\n",
    "strings_list = [a0,a1,a2,a3,a4,a5,a6,a7,a8,a9,a10]\n",
    "results = count_similar_characters(root_string, strings_list)\n",
    "print(\"Number of similar characters at respective indices:\")\n",
    "for i, result in enumerate(results):\n",
    "    print(331-result)"
   ]
  },
  {
   "cell_type": "code",
   "execution_count": 13,
   "id": "b3ff4b03",
   "metadata": {},
   "outputs": [],
   "source": [
    "xt=[\"on a hot summer day, a hungry lazy lion roamed the forest. heespotted a rabbit but let it go, thinking it would not satisfy his hunger. he then joyfully chased a auick deer but could not keep up. exhausted and defeated, he returned to find the rabbit,bbut it was gone. the lion remained hungry and learned that greed is never good.\"\n",
    ",\"on a hot summer day, a hungry lazy lion roamed the forest. he spotted a rabbit but let it go, thinking it would not satisfy his hunger. he then joyfully chased a quick deer but could not keep up. exhausted and defeated, he returned to find the rabbit,bbut it was gone. the lion remained hungry and learned that greed is never good.\"\n",
    ",\"on a hot sumner day, a hungry lazy lion roamed the forest. he spotted a rabbit but let it go, thinking it would not satisfy his hunger. he then joyfully chased a quick deer but could not keep up. exhausted and defeated, he returned to find the rabbit, but it was gpne. the liom remained hungry and learned that greed is never good.\"\n",
    ",\"on a hot summer day, a hungry lazy lion roamed the forest. heespotted a rabbit but let it go, thinking it would not satisfy his hunger. he then joyfully chased a auick deer but could not keep up. exhausted and defeated, he returned to find the rabbit,bbut it was  one. the lion remained hungry and learned that greed is never good.\"\n",
    ",\"on a hot summer day, a hungry lazy lion roamed the forest. heespotted a rabbit but let it go, thinking it would not satisfy his hunger. he then joydully chased a auick deer but could not keep up. exhausted and defeated, he returned to find the rabbit,bbut it was gone. the lion remained hungry and learned that greed is never good.\"\n",
    ",\"on a hot summer day, a hungry lazy lionnroamed the forest. he spotted a rabbit but let it go, thinking it would npt satisfy his hunger. he then joyfully chased a quick deer but could nit keep up. exhqusted and defeated, he returned to findtthe rabbit, but it was gone..the lion remained hungry and learned that greed is never good.\"\n",
    ",\"on a hot summer day, a hungry lazy lionnroamed the forest. he spotted a rabbit but let it go, thinking it would npt satisfy his hunger. he then joyfully chased a quick deer but could nit keep up. exhqusted and defeated, he returned to findtthe rabbit, but it was gone..thellion remainrd hungry and learned that greed is never good.\"\n",
    ",\"on a hot summer day, a hungry lazy lionnroamed the forest. he spotted a rabbit but let it go, thinking it would npt satisfy his hunger. he then joyfully chased a quick deer but could nit keep up. exhqusted and defeated, he returned to find the rabbit, but it was gone..the lion remained hungry and learned that greed is never good.\"\n",
    ",\"on a hot summer day, a hungry lazy lion roamed the forest. he spotted a rabbit but let it go, thinking it would not satisfy his hunger. he then joyfully chased a quick deer but could nit keep up. exhausted and defeated, he returned to findtthe rabbit, but it was gone..the lion remained hungry and learned that greed is never good.\"\n",
    ",\"onaa hot summer day, a hungry lazy lion roamed the forest. he spotted a rabbit but let it go, thinking it would npt satiafy his hunger. he then joyfully chased a quick deer but could nit keep up. exhqusted and defdated, he returned to find the ravbit, but it was gone..the lion remained hungry and learned that greed is never good.\"\n",
    ",\"on a hot summer day, q hungry lazy lion roamed the forest. he spotted a rabbit but lrt it go, thonking it would not satisfy his hunger. he then joyfully chased a quick dwer but could not keepuup.eexhausted anf defeated, he returned to fimd the rabbit, but ut was gone. the lion remained hyngry and learned that greed is never good.\"\n",
    ",\"on a hot summer day,,a hungry lazy lion roamed the forrst. he spotted a rabbit but let it go, thinking it would not satisfy his hunger. he then joyfully chased a quick deer but coukd not keepuup.eexhausted and defeated, he returned toofimd the rabbit, but ut was gone. the lion remained hyngry and leerned that greed is never good.\"\n",
    ",\"on a hot summer day, a hungry lazy lion roamed the forest. he spotted a rabbit but lrt it go, thonking it would not satisfy his hunger. he then joyfully chased a quick dwer but could not keepuup.eexhausted anf defeated, he returned to fimd the rabbit, but it was gone. the lion remained hyngry and learned that greed is never good.\"\n",
    ",\"on a hot summer day, a hungry lazy lion roamed the forest. he spotted a rabbit but lrt it go, thonking it would not sarisfy his hunger. he then joyfully chased a quick dwer but could not keepuup.eexhausted anf dedeated, he returned to fimddthe rabbit, but ut was gone. the lion remained hyngry and learned that greed is never good.\"\n",
    ",\"on a hot summer day, a hungry lazy lion roamed the forest. he spoyyed a rabbit but lrt it go, thonking it would not satisfy his hunger. he then joyfully chasef a quick dwer but could not keepuup. exhausted anf defeated, he returned to fimd the rabbit, but it was gone. the lion remained hyngry and learned that greed is never good.\"\n",
    ",\"on a hot summer day, a hungry laay lion roamed the forest. he spotted a ravbit but let it go, thinking it would not satisfy his hunger. he then joyfully chasrd a quickddeer but could not keep up. exhausted andddefeated,  e returned to find the rabbit, but it was gone. the lion remained hyngry and learned that greed is never good.\"\n",
    ",\"on a hot summer day, a hungry lazy lion roamed the forest. he spotted a ravbit but let it go, thinking it would not satisfy his hunger. he then joyfully chased a quickddeer but could not keep up. exhausted andddefeated,  e returned to find the rabbit, but it was gone. the lion remained hungry and learned that greed is never good.\"\n",
    ",\"on a hot summer day, a hungry laay lion roamed the forest. he spotted a ravbit but let it go, thinking it would not satisfy his hunger. he then joyfully chasrd a quickddeer butccould not keep up. exhausted andddefeated,  e returned to find the rabbit, but it was gone. the lion remained hyngry and learned that greed is never good.\"\n",
    ",\"on a hot summer day, a hungry laay lion roamed the forest. he spotted a ravbit but let it go, thinking it would not satisfy his hunger. ge then joyfully chasrd a quickddeer but could not keep up. exhausted andddefeated,  e returned to find the rabbit, but it was gone. the lion remained hyngry and learned that greed is never good.\"\n",
    ",\"on a hot summer day, a hungry laay lion roamed the forest. he spotted a ravbit but let it go, thinking it would not satisfy his hunger. he then joyfully chasrd a qjickddeer but could not keep up. exhausted andddefeated,  e returned to find the rabbit, but it was gone. the lion remained hyngry and learned that greed is never good.\"\n",
    ",\"on a hot sumner day, a hungry lazy lion roamed the forest. he spotted a rabnit but let it go, thinjing it would not satisfy his hunger. he then jiyfukly chasedaa quick deer but could not keep up. exhausted and defested, he returned to find the rabbit, but it was tone..the lion remained hungry and learned that greed is never good.\"\n",
    ",\"on a hot sumner day, a hungry lazy lion roamed the forest. he spotted a rabnit but let it go, thinjing it would not satisfy his hunger. he then joyfukly chasedaa quick deer but could not keep up. exhausted and defested, he returned to find the rabbit, but it was tone..the lion remained hungry and learned that greed is never good.\"\n",
    ",\"on a hot sumner day, a hungry lazy lion roamed the forest. he spotted a rabnit but let it go, thinjing it would not satisfy his hunger. he then joyfully chasedaa quick deer but could not keep up. exhausted and defested, he returned to find the rabbit, but it was tone..the lion remained hungry and learned that greed is never good.\"\n",
    ",\"on a hot sumner day, a hungry lazy lion roamed the forest. he spotted a rabnit but let it go, thinjing it would not satisfy his hunger. he then jiyfukly chasedaa quick deer but  ould not keep up. exhausted  nd defested, he returned to find the rabbit, but it was tone..the lion remained hungry and learned that greed is never good.\"\n",
    ",\"on a hot sumner day, a hungry lazy lion roamed the forest. he spotted a rabnit but let it go, thinjing it would not satisfy his hunger. he then jiyfukly chasedaa quick deer but could not keep up. exhausted and defested, he returned to find tge rabbit, but it was tone..the lion remained hungry and learned that greed is never good.\"\n",
    ",\"on a hot summer day, a hungry lazy lion roamed the foredt. he spotted a rabbittbut let it go, thinking it would not satisfy his hunger. he then hoyfully chased a quick deer but could not keep up. exhausted and defeated, he returned to find the rabbit, but it was gone. the lion remained hungry and learned that grrrd is never good.\"\n",
    ",\"on a hot summer day, a hungry lazy lion roamed the forest. he spotted a rabbittbut let it go, thinking it would not satisfy his hunger. he then joyfully chased a quick deer but could not keep up. exhausted and defeated, he returned to find the rabbit, but it was gone. the lion remained hungry and learned that grerd is never good.\"\n",
    ",\"on a hot summer day, a hungry lazy lion roamed the foredt. he spotted a rabbittbut let it go, thinking it would not satisfy his hunger. he then hoyfully chased a quock deer but could not keep up. exhausted and defeated, he returned to find the rabbit, but it was gone. the lion remained hungry and learned that grrrd is never good.\"\n",
    ",\"on a hot summer day, a hungry lazy lion roamed the foredt. he spotted a rabbittbut let it go, thinking it would not satisfy his hunger. he then hoyfully chased a quick deer vut could not krep up. exhausted and defeated, he returned to find the rabbit, but it was gone. the lion remained hungry and learned that grrrd is never good.\"\n",
    ",\"on a hot summer day, a hungry lazy lion roamed the forest. he spotted a rabbittbut let it go, thinking it wouldnnot satisfy his hunger. h  then hoyfully chased a quick deer but could not keep up. exhausted and defeated, he returneddto find the rabbit, but it was gone. the lion remained hungry and learned that greed is never good.\"\n",
    ",\"pn a hot summer day, a hungry lazy lion roamed the forest. he spotted a rabbit butllet it go, thinking it would not satisfy his hunger..he then joyfully chased a quick deer bit could not keep up. exhaudted and defeated, he teturned to find thr rabbit, but it was gone. the lion remaineddhungry and learned that greed is never good.\"\n",
    ",\"pn a hot summer day, a hungry lazy lion roamed the forest. he spotted a rabbit butllet it go, thinking it would not satisfy his hunger..he then joyfully chased a quick deer bit could not keep up. exhaudted and defeated, he teturned to find thr rabbit, but it was gone. the lion remained hungry and learned that greed is never good.\"\n",
    ",\"on a hot summer day, a hungry lazy lion roamed the forest. he spotted a rabbit butllet it go, thinking it would not satisfy his hunger. he then joyfully chased a quick deer bit could not keep up. exhaudted and defeated, he teturned to find thr rabbit, but it was gone. the lion remaineddhungry and learned that greed is never good.\"\n",
    ",\"pn a hot summer day, a hunfry lazy lion roamed the forest. he spotted a rabbit butllet it go, thinking it would not satisfy his hunger..he then joyfully chased a quick deer bit could not keep up. exhaudted and defeated, he teturned to find thr rabbit, but it was gone. the lion remaineddhungry and learned that greed is never good.\"\n",
    ",\"pn a hot summer day, a hungry lazy lion roamed the foredt. he spotted a rabbit butllet it go, thinking it would not satisfy his hunger..he then joyfully chased a quick deer bit could not keep up. exhaudted and defeated, he teturned to find thr rabbit, but it was gone. the liin remaineddhungry and learned that greed is never good.\"\n",
    ",\"on a hot sunmer day, aahungry lazy lipn roamed the foeest. he spotted aarabbit but let iy go, thinkingiit would not satisfyyhis hunger. he then joyfully xhased a quicl deer but could not keep up. exhausred and defeated,,he returned to find the rabbit, but it was gone..the lion remained hungry andllearned that greed is never good.\"\n",
    ",\"on a hot sunmer day, a hungry lazy lipn roamed the foeest. he spotted aarabbit but let iy go, thinkingiit would not satisfyyhis hunger. he then joyfully xhased a quicl deer but could not keep up. exhausred and defeated,,he returned to find the rabbit, but it was gone..the lion remained hungry andllearned that greed is never good.\"\n",
    ",\"on a hot sunmer day, aahungry lazy lipn roamed the foeest. he spotted aarabbit but let iy go, thinkingiit would not satisfyyhis hunger. he then joyfully chased a quicl deer but could not keep up. exhausred and defeated,,he returned to find the rabbit, but it was gone..the lion remained hungry andllearned that greed is never good.\"\n",
    ",\"on a hot sunmer day, aahungry lazy lipn roamed the foeest. he spotyed aarabbit but let iy go, thinkingiit would not satisfyyhis hunger. he then joyfully xhased a quicl deer but could not keep up. exhausred and defeated,,he returned to find the rabbit, but it was gone..the lion remained hungry andllearned that greed is never good.\"\n",
    ",\"on a hot sunmer day, aahungry lazy lipn roamed the foeest. he spotted aarabbit but let iy go, thinkingiit would not satisfyyhis hunger. he then joyfully xhased a quicl deer but could not keep up. exhausred and defeated,,he returned to find the ravbit, but it was gone..the lion remained hungry andllearned that greed is never good.\"\n",
    ",\"on a hot summer day, a hungry lazy lion roamed the forest. he spotted a rabbit but let it go, thinking it would not satiafy gis hunger. he then joyfully chased a quick deer buttcould not keep up. exhaystef and defeated, he returned to find the rabvit,bbut it wassgone. the lion remained hungrt and learned that greed is neber goid.\"\n",
    ",\"on a hot summer day, a hungry lazy lion roamed the forest. he spotted a rabbit but let it go, thinking it would not satiafy gis hunger. he then joyfully chased a quick deer buttcould not keep up. exhaystef and defeated, he returned to find the rabbit,bbut it wassgone. the lion remained hungrt and learned that greed is neber goid.\"\n",
    ",\"on a hot summer day, a hungry lazy lion roamed the forest. he spotted a rabbit but let it go, thinking it would not satisfy gis hunger. he then joyfully chased a quivk deer buttcould not keep up. exhaystef and defeated, he returned to find the rabvit,bbut it wassgone. the lion remained hungrt and learned that greed is neber goid.\"\n",
    ",\"on a hot summer day, a hungry lazy lion roamed the forest. he spotted a rabbit but let it go, thinking it would not satiafy gis hunger.  e then joyfully chased a quick deer buttcould not keep up. exhaystef and defeated, he returned to find the rabvit,bbut it wassgone. the lion remained hungrt and learned that greed is neber goid.\"\n",
    ",\"on a hot summer day, a hungry lazy lion roamed the forest. he spotted a rabbit but let it go, thinking it would not satiafy gis hunger. he then joygully chased a quick deer buttcould not keep up. exhaustef and defeated, he returned to find the rabvit,bbut it wassgone. the lion remained hungrt and learned that greed is neber goid.\"\n",
    ",\"on a hot summer day, a hungry lazh lion roamed the foeest. he spotred a rabbit but let it go, thinking it would not satisfy his hungef. he then joyfully chasdd a quick deer but could not keep up..exhausted and degeated, he retuened to fimd the rabbit, but ot was gone. the lkon remained hungry andllearned that greed is never good.\"\n",
    ",\"on a hot summer day, a hungry lazy lion roamed the foeest. he spotred a rabbit but let it go, thinking it would not satisfy his hungef. he then joyfully chasdd a quick deer but could not keep up..exhausted and degeated, he retuened to fimd the rabbit, but ot was gone. the lion remained hungry andllearned that greed is never good.\"\n",
    ",\"on a hot summer day, a hungry lazh lion roamed the foeest. he spotred a ragbit but let it go, thinking it would not satisfy his hungef. he then joyfully chasdd a quick deer but could not keep up..exhausted and degeated, he retuened to fimd the rabbit, but ot was gone. the lkon remaimed hungry andllearned that greed is never good.\"      \n",
    ",\"on a hot summer day, a hungry lazy lion roamtd the forest. he spotted a rabbit but let it go, thinking it would not sarisfy his hungef. he then joyfully chasdd a quick deer bu  could not keep up..exhausted and degeated, ge retuened to fimd the rabbit, but it was gone. the lkon remained hungry andllearned that greed is never good.\"\n",
    ",\"on a hot summer day, a hungry lazh lion roamed the foeest. he spotred a rabbit but let it go, thinking it would not satisfy hishhunger. he then joyfully chasdd a quick deer but coulf not keeppup..exhausted and defeated, he returned to find the rabbit, but ot wss gone. the lkon remained hungry andllearned that greed is never good.\"\n",
    ",\"on a hit summer day,,a hungry lazy lion roamed theeforest. h  spotted a rabbit but lettit go, thinkinf it would not satosfy his hunger. he then joyfukly chaded a quickkdeer but coulc not krep up..exhausted and defeated, he returned to find the rabbit, but it was gone. the lion remained hungry and learned that greed is never good.\"\n",
    ",\"on a hit summer day,,a hungry lazy lion roamed theeforest. h  spotted a rabbit but lettit go, thinkinf it would not satosfy his hunger. he then joyfully chaded a quickkdeer but coulc not krep up..exhausted and defeated, he returned to find the rabbit, but it was gone. the liom remained hungry and learned that greed is never good.\"\n",
    ",\"on a hit summer day,,a hungry lazy lion roamed theeforest. h  spotted a rabbit but lettit go, thinkinf it would not satisfy his hunger. he then joyfukly fhaded a quickkdeer but coulc not krep up..exhausted and defeated, he returned to find the rabbit, but it was gone. the lion remained hungry and learned that greed is never good.\"\n",
    ",\"on a hit summer day,,a hungry lazy lion roamed theeforest. h  spotted a rabbit but lettit go, thinkinf it would not satosfy his hunger. he then joyfully chaded a quickkdeer but coulc not krep up..exhausted and defeated, he returned to find the rabbit, but it was gone. the lion remained hungry and learned that greed is never good.\"\n",
    ",\"on a hit summer day,,a hungry lazy lion roamed theeforest. h  spotted a rabbit but lettit go, thinkinf it would not satosfy his gunger. he then joyfukly chaded a quickkdeer but coulc not krep up..exhausted and defeated, he returned to find the rabbit, but it was gone. the lion remained hungry and learned that greed is never good.\"\n",
    "]"
   ]
  },
  {
   "cell_type": "code",
   "execution_count": 14,
   "id": "4f05cbb5",
   "metadata": {},
   "outputs": [
    {
     "name": "stdout",
     "output_type": "stream",
     "text": [
      "Number of similar characters at respective indices:\n",
      "3\n",
      "1\n",
      "3\n",
      "4\n",
      "4\n",
      "6\n",
      "8\n",
      "5\n",
      "3\n",
      "8\n",
      "10\n",
      "10\n",
      "8\n",
      "12\n",
      "10\n",
      "7\n",
      "4\n",
      "8\n",
      "8\n",
      "8\n",
      "9\n",
      "8\n",
      "7\n",
      "11\n",
      "10\n",
      "5\n",
      "2\n",
      "6\n",
      "7\n",
      "5\n",
      "8\n",
      "7\n",
      "6\n",
      "9\n",
      "10\n",
      "14\n",
      "13\n",
      "13\n",
      "15\n",
      "15\n",
      "11\n",
      "10\n",
      "11\n",
      "12\n",
      "11\n",
      "12\n",
      "10\n",
      "14\n",
      "12\n",
      "12\n",
      "13\n",
      "13\n",
      "13\n",
      "12\n",
      "14\n"
     ]
    }
   ],
   "source": [
    "# Example usage\n",
    "root_string = para\n",
    "strings_list = xt\n",
    "results = count_similar_characters(root_string, strings_list)\n",
    "print(\"Number of similar characters at respective indices:\")\n",
    "for i, result in enumerate(results):\n",
    "    print(331-result)"
   ]
  },
  {
   "cell_type": "code",
   "execution_count": 15,
   "id": "43e705ac",
   "metadata": {},
   "outputs": [
    {
     "data": {
      "text/plain": [
       "[13, 13, 13, 14, 12]"
      ]
     },
     "execution_count": 15,
     "metadata": {},
     "output_type": "execute_result"
    }
   ],
   "source": [
    "[3, 1, 3, 4, 4]\n",
    "[6, 8, 5, 3, 8]\n",
    "[10, 10, 8, 12, 10]\n",
    "[7, 4, 8, 8, 8]\n",
    "[9, 8, 7, 11, 10]\n",
    "[5, 2, 6, 7, 5]\n",
    "[8, 7, 9, 6, 10]\n",
    "[14, 13, 13, 15, 15]\n",
    "[11, 10, 11, 12, 11]\n",
    "[12, 12, 14, 10, 12]\n",
    "[13, 13, 13, 14, 12]"
   ]
  },
  {
   "cell_type": "code",
   "execution_count": 16,
   "id": "4ffcf1da",
   "metadata": {},
   "outputs": [
    {
     "data": {
      "text/plain": [
       "55"
      ]
     },
     "execution_count": 16,
     "metadata": {},
     "output_type": "execute_result"
    }
   ],
   "source": [
    "len(xt)"
   ]
  },
  {
   "cell_type": "code",
   "execution_count": 17,
   "id": "2c8e9cc7",
   "metadata": {},
   "outputs": [],
   "source": [
    "import random\n",
    "\n",
    "def shuffle_every_5_elements(arr):\n",
    "    shuffled_arr = []\n",
    "    for i in range(0, len(arr), 5):\n",
    "        sub_arr = arr[i:i+5]\n",
    "        random.shuffle(sub_arr)\n",
    "        shuffled_arr.extend(sub_arr)\n",
    "    return shuffled_arr"
   ]
  },
  {
   "cell_type": "code",
   "execution_count": 18,
   "id": "fc050ba3",
   "metadata": {},
   "outputs": [],
   "source": [
    "xtt = shuffle_every_5_elements(xt)"
   ]
  },
  {
   "cell_type": "code",
   "execution_count": 19,
   "id": "5b5c25ea",
   "metadata": {},
   "outputs": [
    {
     "data": {
      "text/plain": [
       "['on a hot summer day, a hungry lazy lion roamed the forest. heespotted a rabbit but let it go, thinking it would not satisfy his hunger. he then joyfully chased a auick deer but could not keep up. exhausted and defeated, he returned to find the rabbit,bbut it was gone. the lion remained hungry and learned that greed is never good.',\n",
       " 'on a hot summer day, a hungry lazy lion roamed the forest. heespotted a rabbit but let it go, thinking it would not satisfy his hunger. he then joyfully chased a auick deer but could not keep up. exhausted and defeated, he returned to find the rabbit,bbut it was  one. the lion remained hungry and learned that greed is never good.',\n",
       " 'on a hot sumner day, a hungry lazy lion roamed the forest. he spotted a rabbit but let it go, thinking it would not satisfy his hunger. he then joyfully chased a quick deer but could not keep up. exhausted and defeated, he returned to find the rabbit, but it was gpne. the liom remained hungry and learned that greed is never good.',\n",
       " 'on a hot summer day, a hungry lazy lion roamed the forest. heespotted a rabbit but let it go, thinking it would not satisfy his hunger. he then joydully chased a auick deer but could not keep up. exhausted and defeated, he returned to find the rabbit,bbut it was gone. the lion remained hungry and learned that greed is never good.',\n",
       " 'on a hot summer day, a hungry lazy lion roamed the forest. he spotted a rabbit but let it go, thinking it would not satisfy his hunger. he then joyfully chased a quick deer but could not keep up. exhausted and defeated, he returned to find the rabbit,bbut it was gone. the lion remained hungry and learned that greed is never good.',\n",
       " 'on a hot summer day, a hungry lazy lionnroamed the forest. he spotted a rabbit but let it go, thinking it would npt satisfy his hunger. he then joyfully chased a quick deer but could nit keep up. exhqusted and defeated, he returned to find the rabbit, but it was gone..the lion remained hungry and learned that greed is never good.',\n",
       " 'onaa hot summer day, a hungry lazy lion roamed the forest. he spotted a rabbit but let it go, thinking it would npt satiafy his hunger. he then joyfully chased a quick deer but could nit keep up. exhqusted and defdated, he returned to find the ravbit, but it was gone..the lion remained hungry and learned that greed is never good.',\n",
       " 'on a hot summer day, a hungry lazy lionnroamed the forest. he spotted a rabbit but let it go, thinking it would npt satisfy his hunger. he then joyfully chased a quick deer but could nit keep up. exhqusted and defeated, he returned to findtthe rabbit, but it was gone..thellion remainrd hungry and learned that greed is never good.',\n",
       " 'on a hot summer day, a hungry lazy lion roamed the forest. he spotted a rabbit but let it go, thinking it would not satisfy his hunger. he then joyfully chased a quick deer but could nit keep up. exhausted and defeated, he returned to findtthe rabbit, but it was gone..the lion remained hungry and learned that greed is never good.',\n",
       " 'on a hot summer day, a hungry lazy lionnroamed the forest. he spotted a rabbit but let it go, thinking it would npt satisfy his hunger. he then joyfully chased a quick deer but could nit keep up. exhqusted and defeated, he returned to findtthe rabbit, but it was gone..the lion remained hungry and learned that greed is never good.',\n",
       " 'on a hot summer day, a hungry lazy lion roamed the forest. he spotted a rabbit but lrt it go, thonking it would not satisfy his hunger. he then joyfully chased a quick dwer but could not keepuup.eexhausted anf defeated, he returned to fimd the rabbit, but it was gone. the lion remained hyngry and learned that greed is never good.',\n",
       " 'on a hot summer day,,a hungry lazy lion roamed the forrst. he spotted a rabbit but let it go, thinking it would not satisfy his hunger. he then joyfully chased a quick deer but coukd not keepuup.eexhausted and defeated, he returned toofimd the rabbit, but ut was gone. the lion remained hyngry and leerned that greed is never good.',\n",
       " 'on a hot summer day, q hungry lazy lion roamed the forest. he spotted a rabbit but lrt it go, thonking it would not satisfy his hunger. he then joyfully chased a quick dwer but could not keepuup.eexhausted anf defeated, he returned to fimd the rabbit, but ut was gone. the lion remained hyngry and learned that greed is never good.',\n",
       " 'on a hot summer day, a hungry lazy lion roamed the forest. he spotted a rabbit but lrt it go, thonking it would not sarisfy his hunger. he then joyfully chased a quick dwer but could not keepuup.eexhausted anf dedeated, he returned to fimddthe rabbit, but ut was gone. the lion remained hyngry and learned that greed is never good.',\n",
       " 'on a hot summer day, a hungry lazy lion roamed the forest. he spoyyed a rabbit but lrt it go, thonking it would not satisfy his hunger. he then joyfully chasef a quick dwer but could not keepuup. exhausted anf defeated, he returned to fimd the rabbit, but it was gone. the lion remained hyngry and learned that greed is never good.',\n",
       " 'on a hot summer day, a hungry laay lion roamed the forest. he spotted a ravbit but let it go, thinking it would not satisfy his hunger. he then joyfully chasrd a qjickddeer but could not keep up. exhausted andddefeated,  e returned to find the rabbit, but it was gone. the lion remained hyngry and learned that greed is never good.',\n",
       " 'on a hot summer day, a hungry lazy lion roamed the forest. he spotted a ravbit but let it go, thinking it would not satisfy his hunger. he then joyfully chased a quickddeer but could not keep up. exhausted andddefeated,  e returned to find the rabbit, but it was gone. the lion remained hungry and learned that greed is never good.',\n",
       " 'on a hot summer day, a hungry laay lion roamed the forest. he spotted a ravbit but let it go, thinking it would not satisfy his hunger. he then joyfully chasrd a quickddeer butccould not keep up. exhausted andddefeated,  e returned to find the rabbit, but it was gone. the lion remained hyngry and learned that greed is never good.',\n",
       " 'on a hot summer day, a hungry laay lion roamed the forest. he spotted a ravbit but let it go, thinking it would not satisfy his hunger. ge then joyfully chasrd a quickddeer but could not keep up. exhausted andddefeated,  e returned to find the rabbit, but it was gone. the lion remained hyngry and learned that greed is never good.',\n",
       " 'on a hot summer day, a hungry laay lion roamed the forest. he spotted a ravbit but let it go, thinking it would not satisfy his hunger. he then joyfully chasrd a quickddeer but could not keep up. exhausted andddefeated,  e returned to find the rabbit, but it was gone. the lion remained hyngry and learned that greed is never good.',\n",
       " 'on a hot sumner day, a hungry lazy lion roamed the forest. he spotted a rabnit but let it go, thinjing it would not satisfy his hunger. he then joyfukly chasedaa quick deer but could not keep up. exhausted and defested, he returned to find the rabbit, but it was tone..the lion remained hungry and learned that greed is never good.',\n",
       " 'on a hot sumner day, a hungry lazy lion roamed the forest. he spotted a rabnit but let it go, thinjing it would not satisfy his hunger. he then joyfully chasedaa quick deer but could not keep up. exhausted and defested, he returned to find the rabbit, but it was tone..the lion remained hungry and learned that greed is never good.',\n",
       " 'on a hot sumner day, a hungry lazy lion roamed the forest. he spotted a rabnit but let it go, thinjing it would not satisfy his hunger. he then jiyfukly chasedaa quick deer but  ould not keep up. exhausted  nd defested, he returned to find the rabbit, but it was tone..the lion remained hungry and learned that greed is never good.',\n",
       " 'on a hot sumner day, a hungry lazy lion roamed the forest. he spotted a rabnit but let it go, thinjing it would not satisfy his hunger. he then jiyfukly chasedaa quick deer but could not keep up. exhausted and defested, he returned to find tge rabbit, but it was tone..the lion remained hungry and learned that greed is never good.',\n",
       " 'on a hot sumner day, a hungry lazy lion roamed the forest. he spotted a rabnit but let it go, thinjing it would not satisfy his hunger. he then jiyfukly chasedaa quick deer but could not keep up. exhausted and defested, he returned to find the rabbit, but it was tone..the lion remained hungry and learned that greed is never good.',\n",
       " 'on a hot summer day, a hungry lazy lion roamed the foredt. he spotted a rabbittbut let it go, thinking it would not satisfy his hunger. he then hoyfully chased a quick deer vut could not krep up. exhausted and defeated, he returned to find the rabbit, but it was gone. the lion remained hungry and learned that grrrd is never good.',\n",
       " 'on a hot summer day, a hungry lazy lion roamed the forest. he spotted a rabbittbut let it go, thinking it wouldnnot satisfy his hunger. h  then hoyfully chased a quick deer but could not keep up. exhausted and defeated, he returneddto find the rabbit, but it was gone. the lion remained hungry and learned that greed is never good.',\n",
       " 'on a hot summer day, a hungry lazy lion roamed the forest. he spotted a rabbittbut let it go, thinking it would not satisfy his hunger. he then joyfully chased a quick deer but could not keep up. exhausted and defeated, he returned to find the rabbit, but it was gone. the lion remained hungry and learned that grerd is never good.',\n",
       " 'on a hot summer day, a hungry lazy lion roamed the foredt. he spotted a rabbittbut let it go, thinking it would not satisfy his hunger. he then hoyfully chased a quock deer but could not keep up. exhausted and defeated, he returned to find the rabbit, but it was gone. the lion remained hungry and learned that grrrd is never good.',\n",
       " 'on a hot summer day, a hungry lazy lion roamed the foredt. he spotted a rabbittbut let it go, thinking it would not satisfy his hunger. he then hoyfully chased a quick deer but could not keep up. exhausted and defeated, he returned to find the rabbit, but it was gone. the lion remained hungry and learned that grrrd is never good.',\n",
       " 'pn a hot summer day, a hungry lazy lion roamed the foredt. he spotted a rabbit butllet it go, thinking it would not satisfy his hunger..he then joyfully chased a quick deer bit could not keep up. exhaudted and defeated, he teturned to find thr rabbit, but it was gone. the liin remaineddhungry and learned that greed is never good.',\n",
       " 'on a hot summer day, a hungry lazy lion roamed the forest. he spotted a rabbit butllet it go, thinking it would not satisfy his hunger. he then joyfully chased a quick deer bit could not keep up. exhaudted and defeated, he teturned to find thr rabbit, but it was gone. the lion remaineddhungry and learned that greed is never good.',\n",
       " 'pn a hot summer day, a hungry lazy lion roamed the forest. he spotted a rabbit butllet it go, thinking it would not satisfy his hunger..he then joyfully chased a quick deer bit could not keep up. exhaudted and defeated, he teturned to find thr rabbit, but it was gone. the lion remaineddhungry and learned that greed is never good.',\n",
       " 'pn a hot summer day, a hunfry lazy lion roamed the forest. he spotted a rabbit butllet it go, thinking it would not satisfy his hunger..he then joyfully chased a quick deer bit could not keep up. exhaudted and defeated, he teturned to find thr rabbit, but it was gone. the lion remaineddhungry and learned that greed is never good.',\n",
       " 'pn a hot summer day, a hungry lazy lion roamed the forest. he spotted a rabbit butllet it go, thinking it would not satisfy his hunger..he then joyfully chased a quick deer bit could not keep up. exhaudted and defeated, he teturned to find thr rabbit, but it was gone. the lion remained hungry and learned that greed is never good.',\n",
       " 'on a hot sunmer day, aahungry lazy lipn roamed the foeest. he spotyed aarabbit but let iy go, thinkingiit would not satisfyyhis hunger. he then joyfully xhased a quicl deer but could not keep up. exhausred and defeated,,he returned to find the rabbit, but it was gone..the lion remained hungry andllearned that greed is never good.',\n",
       " 'on a hot sunmer day, a hungry lazy lipn roamed the foeest. he spotted aarabbit but let iy go, thinkingiit would not satisfyyhis hunger. he then joyfully xhased a quicl deer but could not keep up. exhausred and defeated,,he returned to find the rabbit, but it was gone..the lion remained hungry andllearned that greed is never good.',\n",
       " 'on a hot sunmer day, aahungry lazy lipn roamed the foeest. he spotted aarabbit but let iy go, thinkingiit would not satisfyyhis hunger. he then joyfully xhased a quicl deer but could not keep up. exhausred and defeated,,he returned to find the ravbit, but it was gone..the lion remained hungry andllearned that greed is never good.',\n",
       " 'on a hot sunmer day, aahungry lazy lipn roamed the foeest. he spotted aarabbit but let iy go, thinkingiit would not satisfyyhis hunger. he then joyfully xhased a quicl deer but could not keep up. exhausred and defeated,,he returned to find the rabbit, but it was gone..the lion remained hungry andllearned that greed is never good.',\n",
       " 'on a hot sunmer day, aahungry lazy lipn roamed the foeest. he spotted aarabbit but let iy go, thinkingiit would not satisfyyhis hunger. he then joyfully chased a quicl deer but could not keep up. exhausred and defeated,,he returned to find the rabbit, but it was gone..the lion remained hungry andllearned that greed is never good.',\n",
       " 'on a hot summer day, a hungry lazy lion roamed the forest. he spotted a rabbit but let it go, thinking it would not satiafy gis hunger. he then joygully chased a quick deer buttcould not keep up. exhaustef and defeated, he returned to find the rabvit,bbut it wassgone. the lion remained hungrt and learned that greed is neber goid.',\n",
       " 'on a hot summer day, a hungry lazy lion roamed the forest. he spotted a rabbit but let it go, thinking it would not satisfy gis hunger. he then joyfully chased a quivk deer buttcould not keep up. exhaystef and defeated, he returned to find the rabvit,bbut it wassgone. the lion remained hungrt and learned that greed is neber goid.',\n",
       " 'on a hot summer day, a hungry lazy lion roamed the forest. he spotted a rabbit but let it go, thinking it would not satiafy gis hunger.  e then joyfully chased a quick deer buttcould not keep up. exhaystef and defeated, he returned to find the rabvit,bbut it wassgone. the lion remained hungrt and learned that greed is neber goid.',\n",
       " 'on a hot summer day, a hungry lazy lion roamed the forest. he spotted a rabbit but let it go, thinking it would not satiafy gis hunger. he then joyfully chased a quick deer buttcould not keep up. exhaystef and defeated, he returned to find the rabbit,bbut it wassgone. the lion remained hungrt and learned that greed is neber goid.',\n",
       " 'on a hot summer day, a hungry lazy lion roamed the forest. he spotted a rabbit but let it go, thinking it would not satiafy gis hunger. he then joyfully chased a quick deer buttcould not keep up. exhaystef and defeated, he returned to find the rabvit,bbut it wassgone. the lion remained hungrt and learned that greed is neber goid.',\n",
       " 'on a hot summer day, a hungry lazh lion roamed the foeest. he spotred a rabbit but let it go, thinking it would not satisfy his hungef. he then joyfully chasdd a quick deer but could not keep up..exhausted and degeated, he retuened to fimd the rabbit, but ot was gone. the lkon remained hungry andllearned that greed is never good.',\n",
       " 'on a hot summer day, a hungry lazh lion roamed the foeest. he spotred a ragbit but let it go, thinking it would not satisfy his hungef. he then joyfully chasdd a quick deer but could not keep up..exhausted and degeated, he retuened to fimd the rabbit, but ot was gone. the lkon remaimed hungry andllearned that greed is never good.',\n",
       " 'on a hot summer day, a hungry lazy lion roamed the foeest. he spotred a rabbit but let it go, thinking it would not satisfy his hungef. he then joyfully chasdd a quick deer but could not keep up..exhausted and degeated, he retuened to fimd the rabbit, but ot was gone. the lion remained hungry andllearned that greed is never good.',\n",
       " 'on a hot summer day, a hungry lazh lion roamed the foeest. he spotred a rabbit but let it go, thinking it would not satisfy hishhunger. he then joyfully chasdd a quick deer but coulf not keeppup..exhausted and defeated, he returned to find the rabbit, but ot wss gone. the lkon remained hungry andllearned that greed is never good.',\n",
       " 'on a hot summer day, a hungry lazy lion roamtd the forest. he spotted a rabbit but let it go, thinking it would not sarisfy his hungef. he then joyfully chasdd a quick deer bu  could not keep up..exhausted and degeated, ge retuened to fimd the rabbit, but it was gone. the lkon remained hungry andllearned that greed is never good.',\n",
       " 'on a hit summer day,,a hungry lazy lion roamed theeforest. h  spotted a rabbit but lettit go, thinkinf it would not satosfy his hunger. he then joyfukly chaded a quickkdeer but coulc not krep up..exhausted and defeated, he returned to find the rabbit, but it was gone. the lion remained hungry and learned that greed is never good.',\n",
       " 'on a hit summer day,,a hungry lazy lion roamed theeforest. h  spotted a rabbit but lettit go, thinkinf it would not satosfy his hunger. he then joyfully chaded a quickkdeer but coulc not krep up..exhausted and defeated, he returned to find the rabbit, but it was gone. the liom remained hungry and learned that greed is never good.',\n",
       " 'on a hit summer day,,a hungry lazy lion roamed theeforest. h  spotted a rabbit but lettit go, thinkinf it would not satosfy his gunger. he then joyfukly chaded a quickkdeer but coulc not krep up..exhausted and defeated, he returned to find the rabbit, but it was gone. the lion remained hungry and learned that greed is never good.',\n",
       " 'on a hit summer day,,a hungry lazy lion roamed theeforest. h  spotted a rabbit but lettit go, thinkinf it would not satosfy his hunger. he then joyfully chaded a quickkdeer but coulc not krep up..exhausted and defeated, he returned to find the rabbit, but it was gone. the lion remained hungry and learned that greed is never good.',\n",
       " 'on a hit summer day,,a hungry lazy lion roamed theeforest. h  spotted a rabbit but lettit go, thinkinf it would not satisfy his hunger. he then joyfukly fhaded a quickkdeer but coulc not krep up..exhausted and defeated, he returned to find the rabbit, but it was gone. the lion remained hungry and learned that greed is never good.']"
      ]
     },
     "execution_count": 19,
     "metadata": {},
     "output_type": "execute_result"
    }
   ],
   "source": [
    "xtt"
   ]
  },
  {
   "cell_type": "code",
   "execution_count": 20,
   "id": "b0425f9d",
   "metadata": {},
   "outputs": [
    {
     "name": "stdout",
     "output_type": "stream",
     "text": [
      "Number of similar characters at respective indices:\n",
      "3\n",
      "4\n",
      "3\n",
      "4\n",
      "1\n",
      "5\n",
      "8\n",
      "8\n",
      "3\n",
      "6\n",
      "8\n",
      "10\n",
      "10\n",
      "12\n",
      "10\n",
      "8\n",
      "4\n",
      "8\n",
      "8\n",
      "7\n",
      "8\n",
      "7\n",
      "11\n",
      "10\n",
      "9\n",
      "7\n",
      "5\n",
      "2\n",
      "6\n",
      "5\n",
      "10\n",
      "6\n",
      "8\n",
      "9\n",
      "7\n",
      "15\n",
      "13\n",
      "15\n",
      "14\n",
      "13\n",
      "11\n",
      "11\n",
      "12\n",
      "10\n",
      "11\n",
      "12\n",
      "14\n",
      "10\n",
      "12\n",
      "12\n",
      "13\n",
      "13\n",
      "14\n",
      "12\n",
      "13\n"
     ]
    }
   ],
   "source": [
    "# Example usage\n",
    "root_string = para\n",
    "strings_list = xtt\n",
    "results = count_similar_characters(root_string, strings_list)\n",
    "print(\"Number of similar characters at respective indices:\")\n",
    "for i, result in enumerate(results):\n",
    "    print(331-result)"
   ]
  },
  {
   "cell_type": "code",
   "execution_count": 21,
   "id": "916335b4",
   "metadata": {},
   "outputs": [],
   "source": [
    "xt=['on a hot summer day, a hungry lazy lion roamed the forest. heespotted a rabbit but let it go, thinking it would not satisfy his hunger. he then joyfully chased a auick deer but could not keep up. exhausted and defeated, he returned to find the rabbit,bbut it was gone. the lion remained hungry and learned that greed is never good.',\n",
    " 'on a hot sumner day, a hungry lazy lion roamed the forest. he spotted a rabbit but let it go, thinking it would not satisfy his hunger. he then joyfully chased a quick deer but could not keep up. exhausted and defeated, he returned to find the rabbit, but it was gpne. the liom remained hungry and learned that greed is never good.',\n",
    " 'on a hot summer day, a hungry lazy lion roamed the forest. heespotted a rabbit but let it go, thinking it would not satisfy his hunger. he then joydully chased a auick deer but could not keep up. exhausted and defeated, he returned to find the rabbit,bbut it was gone. the lion remained hungry and learned that greed is never good.',\n",
    " 'on a hot summer day, a hungry lazy lion roamed the forest. he spotted a rabbit but let it go, thinking it would not satisfy his hunger. he then joyfully chased a quick deer but could not keep up. exhausted and defeated, he returned to find the rabbit,bbut it was gone. the lion remained hungry and learned that greed is never good.',\n",
    " 'on a hot summer day, a hungry lazy lion roamed the forest. heespotted a rabbit but let it go, thinking it would not satisfy his hunger. he then joyfully chased a auick deer but could not keep up. exhausted and defeated, he returned to find the rabbit,bbut it was  one. the lion remained hungry and learned that greed is never good.',\n",
    " 'on a hot summer day, a hungry lazy lionnroamed the forest. he spotted a rabbit but let it go, thinking it would npt satisfy his hunger. he then joyfully chased a quick deer but could nit keep up. exhqusted and defeated, he returned to find the rabbit, but it was gone..the lion remained hungry and learned that greed is never good.',\n",
    " 'on a hot summer day, a hungry lazy lion roamed the forest. he spotted a rabbit but let it go, thinking it would not satisfy his hunger. he then joyfully chased a quick deer but could nit keep up. exhausted and defeated, he returned to findtthe rabbit, but it was gone..the lion remained hungry and learned that greed is never good.',\n",
    " 'on a hot summer day, a hungry lazy lionnroamed the forest. he spotted a rabbit but let it go, thinking it would npt satisfy his hunger. he then joyfully chased a quick deer but could nit keep up. exhqusted and defeated, he returned to findtthe rabbit, but it was gone..the lion remained hungry and learned that greed is never good.',\n",
    " 'on a hot summer day, a hungry lazy lionnroamed the forest. he spotted a rabbit but let it go, thinking it would npt satisfy his hunger. he then joyfully chased a quick deer but could nit keep up. exhqusted and defeated, he returned to findtthe rabbit, but it was gone..thellion remainrd hungry and learned that greed is never good.',\n",
    " 'onaa hot summer day, a hungry lazy lion roamed the forest. he spotted a rabbit but let it go, thinking it would npt satiafy his hunger. he then joyfully chased a quick deer but could nit keep up. exhqusted and defdated, he returned to find the ravbit, but it was gone..the lion remained hungry and learned that greed is never good.',\n",
    " 'on a hot summer day,,a hungry lazy lion roamed the forrst. he spotted a rabbit but let it go, thinking it would not satisfy his hunger. he then joyfully chased a quick deer but coukd not keepuup.eexhausted and defeated, he returned toofimd the rabbit, but ut was gone. the lion remained hyngry and leerned that greed is never good.',\n",
    " 'on a hot summer day, q hungry lazy lion roamed the forest. he spotted a rabbit but lrt it go, thonking it would not satisfy his hunger. he then joyfully chased a quick dwer but could not keepuup.eexhausted anf defeated, he returned to fimd the rabbit, but ut was gone. the lion remained hyngry and learned that greed is never good.',\n",
    " 'on a hot summer day, a hungry lazy lion roamed the forest. he spotted a rabbit but lrt it go, thonking it would not sarisfy his hunger. he then joyfully chased a quick dwer but could not keepuup.eexhausted anf dedeated, he returned to fimddthe rabbit, but ut was gone. the lion remained hyngry and learned that greed is never good.',\n",
    " 'on a hot summer day, a hungry lazy lion roamed the forest. he spotted a rabbit but lrt it go, thonking it would not satisfy his hunger. he then joyfully chased a quick dwer but could not keepuup.eexhausted anf defeated, he returned to fimd the rabbit, but it was gone. the lion remained hyngry and learned that greed is never good.',\n",
    " 'on a hot summer day, a hungry lazy lion roamed the forest. he spoyyed a rabbit but lrt it go, thonking it would not satisfy his hunger. he then joyfully chasef a quick dwer but could not keepuup. exhausted anf defeated, he returned to fimd the rabbit, but it was gone. the lion remained hyngry and learned that greed is never good.',\n",
    " 'on a hot summer day, a hungry lazy lion roamed the forest. he spotted a ravbit but let it go, thinking it would not satisfy his hunger. he then joyfully chased a quickddeer but could not keep up. exhausted andddefeated,  e returned to find the rabbit, but it was gone. the lion remained hungry and learned that greed is never good.',\n",
    " 'on a hot summer day, a hungry laay lion roamed the forest. he spotted a ravbit but let it go, thinking it would not satisfy his hunger. ge then joyfully chasrd a quickddeer but could not keep up. exhausted andddefeated,  e returned to find the rabbit, but it was gone. the lion remained hyngry and learned that greed is never good.',\n",
    " 'on a hot summer day, a hungry laay lion roamed the forest. he spotted a ravbit but let it go, thinking it would not satisfy his hunger. he then joyfully chasrd a quickddeer butccould not keep up. exhausted andddefeated,  e returned to find the rabbit, but it was gone. the lion remained hyngry and learned that greed is never good.',\n",
    " 'on a hot summer day, a hungry laay lion roamed the forest. he spotted a ravbit but let it go, thinking it would not satisfy his hunger. he then joyfully chasrd a quickddeer but could not keep up. exhausted andddefeated,  e returned to find the rabbit, but it was gone. the lion remained hyngry and learned that greed is never good.',\n",
    " 'on a hot summer day, a hungry laay lion roamed the forest. he spotted a ravbit but let it go, thinking it would not satisfy his hunger. he then joyfully chasrd a qjickddeer but could not keep up. exhausted andddefeated,  e returned to find the rabbit, but it was gone. the lion remained hyngry and learned that greed is never good.',\n",
    " 'on a hot sumner day, a hungry lazy lion roamed the forest. he spotted a rabnit but let it go, thinjing it would not satisfy his hunger. he then jiyfukly chasedaa quick deer but could not keep up. exhausted and defested, he returned to find tge rabbit, but it was tone..the lion remained hungry and learned that greed is never good.',\n",
    " 'on a hot sumner day, a hungry lazy lion roamed the forest. he spotted a rabnit but let it go, thinjing it would not satisfy his hunger. he then jiyfukly chasedaa quick deer but  ould not keep up. exhausted  nd defested, he returned to find the rabbit, but it was tone..the lion remained hungry and learned that greed is never good.',\n",
    " 'on a hot sumner day, a hungry lazy lion roamed the forest. he spotted a rabnit but let it go, thinjing it would not satisfy his hunger. he then jiyfukly chasedaa quick deer but could not keep up. exhausted and defested, he returned to find the rabbit, but it was tone..the lion remained hungry and learned that greed is never good.',\n",
    " 'on a hot sumner day, a hungry lazy lion roamed the forest. he spotted a rabnit but let it go, thinjing it would not satisfy his hunger. he then joyfukly chasedaa quick deer but could not keep up. exhausted and defested, he returned to find the rabbit, but it was tone..the lion remained hungry and learned that greed is never good.',\n",
    " 'on a hot sumner day, a hungry lazy lion roamed the forest. he spotted a rabnit but let it go, thinjing it would not satisfy his hunger. he then joyfully chasedaa quick deer but could not keep up. exhausted and defested, he returned to find the rabbit, but it was tone..the lion remained hungry and learned that greed is never good.',\n",
    " 'on a hot summer day, a hungry lazy lion roamed the foredt. he spotted a rabbittbut let it go, thinking it would not satisfy his hunger. he then hoyfully chased a quick deer but could not keep up. exhausted and defeated, he returned to find the rabbit, but it was gone. the lion remained hungry and learned that grrrd is never good.',\n",
    " 'on a hot summer day, a hungry lazy lion roamed the foredt. he spotted a rabbittbut let it go, thinking it would not satisfy his hunger. he then hoyfully chased a quick deer vut could not krep up. exhausted and defeated, he returned to find the rabbit, but it was gone. the lion remained hungry and learned that grrrd is never good.',\n",
    " 'on a hot summer day, a hungry lazy lion roamed the forest. he spotted a rabbittbut let it go, thinking it would not satisfy his hunger. he then joyfully chased a quick deer but could not keep up. exhausted and defeated, he returned to find the rabbit, but it was gone. the lion remained hungry and learned that grerd is never good.',\n",
    " 'on a hot summer day, a hungry lazy lion roamed the forest. he spotted a rabbittbut let it go, thinking it wouldnnot satisfy his hunger. h  then hoyfully chased a quick deer but could not keep up. exhausted and defeated, he returneddto find the rabbit, but it was gone. the lion remained hungry and learned that greed is never good.',\n",
    " 'on a hot summer day, a hungry lazy lion roamed the foredt. he spotted a rabbittbut let it go, thinking it would not satisfy his hunger. he then hoyfully chased a quock deer but could not keep up. exhausted and defeated, he returned to find the rabbit, but it was gone. the lion remained hungry and learned that grrrd is never good.',\n",
    " 'pn a hot summer day, a hungry lazy lion roamed the forest. he spotted a rabbit butllet it go, thinking it would not satisfy his hunger..he then joyfully chased a quick deer bit could not keep up. exhaudted and defeated, he teturned to find thr rabbit, but it was gone. the lion remained hungry and learned that greed is never good.',\n",
    " 'pn a hot summer day, a hungry lazy lion roamed the forest. he spotted a rabbit butllet it go, thinking it would not satisfy his hunger..he then joyfully chased a quick deer bit could not keep up. exhaudted and defeated, he teturned to find thr rabbit, but it was gone. the lion remaineddhungry and learned that greed is never good.',\n",
    " 'on a hot summer day, a hungry lazy lion roamed the forest. he spotted a rabbit butllet it go, thinking it would not satisfy his hunger. he then joyfully chased a quick deer bit could not keep up. exhaudted and defeated, he teturned to find thr rabbit, but it was gone. the lion remaineddhungry and learned that greed is never good.',\n",
    " 'pn a hot summer day, a hunfry lazy lion roamed the forest. he spotted a rabbit butllet it go, thinking it would not satisfy his hunger..he then joyfully chased a quick deer bit could not keep up. exhaudted and defeated, he teturned to find thr rabbit, but it was gone. the lion remaineddhungry and learned that greed is never good.',\n",
    " 'pn a hot summer day, a hungry lazy lion roamed the foredt. he spotted a rabbit butllet it go, thinking it would not satisfy his hunger..he then joyfully chased a quick deer bit could not keep up. exhaudted and defeated, he teturned to find thr rabbit, but it was gone. the liin remaineddhungry and learned that greed is never good.',\n",
    " 'on a hot sunmer day, aahungry lazy lipn roamed the foeest. he spotyed aarabbit but let iy go, thinkingiit would not satisfyyhis hunger. he then joyfully xhased a quicl deer but could not keep up. exhausred and defeated,,he returned to find the rabbit, but it was gone..the lion remained hungry andllearned that greed is never good.',\n",
    " 'on a hot sunmer day, a hungry lazy lipn roamed the foeest. he spotted aarabbit but let iy go, thinkingiit would not satisfyyhis hunger. he then joyfully xhased a quicl deer but could not keep up. exhausred and defeated,,he returned to find the rabbit, but it was gone..the lion remained hungry andllearned that greed is never good.',\n",
    " 'on a hot sunmer day, aahungry lazy lipn roamed the foeest. he spotted aarabbit but let iy go, thinkingiit would not satisfyyhis hunger. he then joyfully xhased a quicl deer but could not keep up. exhausred and defeated,,he returned to find the rabbit, but it was gone..the lion remained hungry andllearned that greed is never good.',\n",
    " 'on a hot sunmer day, aahungry lazy lipn roamed the foeest. he spotted aarabbit but let iy go, thinkingiit would not satisfyyhis hunger. he then joyfully xhased a quicl deer but could not keep up. exhausred and defeated,,he returned to find the ravbit, but it was gone..the lion remained hungry andllearned that greed is never good.',\n",
    " 'on a hot sunmer day, aahungry lazy lipn roamed the foeest. he spotted aarabbit but let iy go, thinkingiit would not satisfyyhis hunger. he then joyfully chased a quicl deer but could not keep up. exhausred and defeated,,he returned to find the rabbit, but it was gone..the lion remained hungry andllearned that greed is never good.',\n",
    " 'on a hot summer day, a hungry lazy lion roamed the forest. he spotted a rabbit but let it go, thinking it would not satiafy gis hunger. he then joyfully chased a quick deer buttcould not keep up. exhaystef and defeated, he returned to find the rabvit,bbut it wassgone. the lion remained hungrt and learned that greed is neber goid.',\n",
    " 'on a hot summer day, a hungry lazy lion roamed the forest. he spotted a rabbit but let it go, thinking it would not satisfy gis hunger. he then joyfully chased a quivk deer buttcould not keep up. exhaystef and defeated, he returned to find the rabvit,bbut it wassgone. the lion remained hungrt and learned that greed is neber goid.',\n",
    " 'on a hot summer day, a hungry lazy lion roamed the forest. he spotted a rabbit but let it go, thinking it would not satiafy gis hunger. he then joygully chased a quick deer buttcould not keep up. exhaustef and defeated, he returned to find the rabvit,bbut it wassgone. the lion remained hungrt and learned that greed is neber goid.',\n",
    " 'on a hot summer day, a hungry lazy lion roamed the forest. he spotted a rabbit but let it go, thinking it would not satiafy gis hunger.  e then joyfully chased a quick deer buttcould not keep up. exhaystef and defeated, he returned to find the rabvit,bbut it wassgone. the lion remained hungrt and learned that greed is neber goid.',\n",
    " 'on a hot summer day, a hungry lazy lion roamed the forest. he spotted a rabbit but let it go, thinking it would not satiafy gis hunger. he then joyfully chased a quick deer buttcould not keep up. exhaystef and defeated, he returned to find the rabbit,bbut it wassgone. the lion remained hungrt and learned that greed is neber goid.',\n",
    " 'on a hot summer day, a hungry lazh lion roamed the foeest. he spotred a rabbit but let it go, thinking it would not satisfy his hungef. he then joyfully chasdd a quick deer but could not keep up..exhausted and degeated, he retuened to fimd the rabbit, but ot was gone. the lkon remained hungry andllearned that greed is never good.',\n",
    " 'on a hot summer day, a hungry lazy lion roamtd the forest. he spotted a rabbit but let it go, thinking it would not sarisfy his hungef. he then joyfully chasdd a quick deer bu  could not keep up..exhausted and degeated, ge retuened to fimd the rabbit, but it was gone. the lkon remained hungry andllearned that greed is never good.',\n",
    " 'on a hot summer day, a hungry lazy lion roamed the foeest. he spotred a rabbit but let it go, thinking it would not satisfy his hungef. he then joyfully chasdd a quick deer but could not keep up..exhausted and degeated, he retuened to fimd the rabbit, but ot was gone. the lion remained hungry andllearned that greed is never good.',\n",
    " 'on a hot summer day, a hungry lazh lion roamed the foeest. he spotred a rabbit but let it go, thinking it would not satisfy hishhunger. he then joyfully chasdd a quick deer but coulf not keeppup..exhausted and defeated, he returned to find the rabbit, but ot wss gone. the lkon remained hungry andllearned that greed is never good.',\n",
    " 'on a hot summer day, a hungry lazh lion roamed the foeest. he spotred a ragbit but let it go, thinking it would not satisfy his hungef. he then joyfully chasdd a quick deer but could not keep up..exhausted and degeated, he retuened to fimd the rabbit, but ot was gone. the lkon remaimed hungry andllearned that greed is never good.',\n",
    " 'on a hit summer day,,a hungry lazy lion roamed theeforest. h  spotted a rabbit but lettit go, thinkinf it would not satosfy his hunger. he then joyfukly chaded a quickkdeer but coulc not krep up..exhausted and defeated, he returned to find the rabbit, but it was gone. the lion remained hungry and learned that greed is never good.',\n",
    " 'on a hit summer day,,a hungry lazy lion roamed theeforest. h  spotted a rabbit but lettit go, thinkinf it would not satosfy his gunger. he then joyfukly chaded a quickkdeer but coulc not krep up..exhausted and defeated, he returned to find the rabbit, but it was gone. the lion remained hungry and learned that greed is never good.',\n",
    " 'on a hit summer day,,a hungry lazy lion roamed theeforest. h  spotted a rabbit but lettit go, thinkinf it would not satosfy his hunger. he then joyfully chaded a quickkdeer but coulc not krep up..exhausted and defeated, he returned to find the rabbit, but it was gone. the liom remained hungry and learned that greed is never good.',\n",
    " 'on a hit summer day,,a hungry lazy lion roamed theeforest. h  spotted a rabbit but lettit go, thinkinf it would not satosfy his hunger. he then joyfully chaded a quickkdeer but coulc not krep up..exhausted and defeated, he returned to find the rabbit, but it was gone. the lion remained hungry and learned that greed is never good.',\n",
    " 'on a hit summer day,,a hungry lazy lion roamed theeforest. h  spotted a rabbit but lettit go, thinkinf it would not satisfy his hunger. he then joyfukly fhaded a quickkdeer but coulc not krep up..exhausted and defeated, he returned to find the rabbit, but it was gone. the lion remained hungry and learned that greed is never good.']"
   ]
  },
  {
   "cell_type": "code",
   "execution_count": null,
   "id": "b4fb7030",
   "metadata": {},
   "outputs": [],
   "source": []
  },
  {
   "cell_type": "code",
   "execution_count": null,
   "id": "d3a7e450",
   "metadata": {},
   "outputs": [],
   "source": []
  },
  {
   "cell_type": "code",
   "execution_count": null,
   "id": "44d5bbec",
   "metadata": {},
   "outputs": [],
   "source": []
  },
  {
   "cell_type": "code",
   "execution_count": null,
   "id": "181b5f95",
   "metadata": {},
   "outputs": [],
   "source": []
  }
 ],
 "metadata": {
  "kernelspec": {
   "display_name": "Python 3",
   "language": "python",
   "name": "python3"
  },
  "language_info": {
   "codemirror_mode": {
    "name": "ipython",
    "version": 3
   },
   "file_extension": ".py",
   "mimetype": "text/x-python",
   "name": "python",
   "nbconvert_exporter": "python",
   "pygments_lexer": "ipython3",
   "version": "3.6.8"
  }
 },
 "nbformat": 4,
 "nbformat_minor": 5
}
